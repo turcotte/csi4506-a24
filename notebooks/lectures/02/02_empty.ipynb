{
  "cells": [
    {
      "cell_type": "markdown",
      "metadata": {},
      "source": [
        "# Lecture 02\n",
        "\n",
        "Jupyter Notebook - Empty\n",
        "\n",
        "Marcel Turcotte (École de sience informatique et de génie électrique,\n",
        "Université d’Ottawa)  \n",
        "2024-09-02"
      ],
      "id": "ae395f23-80a0-4565-9623-8247eb21c307"
    }
  ],
  "nbformat": 4,
  "nbformat_minor": 5,
  "metadata": {
    "kernelspec": {
      "display_name": "Python 3",
      "language": "python",
      "name": "python3"
    }
  }
}