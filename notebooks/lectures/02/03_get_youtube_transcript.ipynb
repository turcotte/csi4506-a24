{
  "cells": [
    {
      "cell_type": "markdown",
      "metadata": {},
      "source": [
        "# Lecture 02\n",
        "\n",
        "Jupyter Notebook - YouTube Transcript API\n",
        "\n",
        "Marcel Turcotte (École de sience informatique et de génie électrique,\n",
        "Université d’Ottawa)  \n",
        "2024-09-02\n",
        "\n",
        "# Objectif d’apprentissage\n",
        "\n",
        "-   **Illustrer** le processus d’identification et de résolution des\n",
        "    problèmes de bibliothèques manquantes dans Google Colab.\n",
        "\n",
        "> **Important**\n",
        ">\n",
        "> Cet exemple est destiné à être exécuté dans [Google\n",
        "> Colab](https://colab.research.google.com).\n",
        "\n",
        "# API de transcription YouTube\n",
        "\n",
        "Dans ce notebook, nous visons à utiliser l’[API de transcription\n",
        "YouTube](https://github.com/jdepoix/youtube-transcript-api) pour\n",
        "télécharger automatiquement la transcription de la vidéo intitulée [Can\n",
        "Machines Think?](https://www.youtube.com/watch?v=Ex9GbzX6tMo) par Noam\n",
        "Chomsky.\n",
        "\n",
        "Tout d’abord, importons `YouTubeTranscriptApi` et `TextFormatter` de\n",
        "`youtube_transcript_api`."
      ],
      "id": "4e3813bf-b5ec-47f2-9546-edf8ec702156"
    },
    {
      "cell_type": "code",
      "execution_count": 1,
      "metadata": {},
      "outputs": [],
      "source": [
        "from youtube_transcript_api import YouTubeTranscriptApi\n",
        "from youtube_transcript_api.formatters import TextFormatter"
      ],
      "id": "f9eeab22"
    },
    {
      "cell_type": "markdown",
      "metadata": {},
      "source": [
        "L’exécution de la cellule de code ci-dessus entraînera une erreur, car\n",
        "la bibliothèque `youtube_transcript_api` n’est pas installée par défaut\n",
        "dans Google Colab.\n",
        "\n",
        "    ---------------------------------------------------------------------------\n",
        "    ModuleNotFoundError Traceback (most recent call last)\n",
        "    <ipython-input-1-c8308591d925> in <cell line: 2>()\n",
        "    1 # ! pip install youtube-transcript-api\n",
        "    ----> 2 from youtube_transcript_api import YouTubeTranscriptApi\n",
        "    3 from youtube_transcript_api.formatters import TextFormatter\n",
        "\n",
        "    ModuleNotFoundError: No module named 'youtube_transcript_api'\n",
        "\n",
        "    ---------------------------------------------------------------------------\n",
        "    NOTE: If your import is failing due to a missing package, you can\n",
        "    manually install dependencies using either !pip or !apt.\n",
        "\n",
        "    To view examples of installing some common dependencies, click the\n",
        "    \"Open Examples\" button below.\n",
        "    ---------------------------------------------------------------------------\n",
        "\n",
        "Ce problème peut être résolu en ajoutant la ligne de code suivante avant\n",
        "la première instruction `import`. Essayez-le !\n",
        "\n",
        "``` bash\n",
        "! pip install youtube-transcript-api\n",
        "```\n",
        "\n",
        "Une fois ce problème résolu, nous pouvons télécharger et imprimer la\n",
        "transcription. Essayez-le !"
      ],
      "id": "1c6a10e2-2f44-4ebc-b40f-b5ad7091404c"
    },
    {
      "cell_type": "code",
      "execution_count": 2,
      "metadata": {},
      "outputs": [],
      "source": [
        "transcript = YouTubeTranscriptApi.get_transcript(\"Ex9GbzX6tMo\")\n",
        "formatter = TextFormatter()\n",
        "input_text = formatter.format_transcript(transcript)\n",
        "print(input_text)"
      ],
      "id": "bd5462ac"
    },
    {
      "cell_type": "markdown",
      "metadata": {},
      "source": [
        "# Exploration\n",
        "\n",
        "`!` permet d’exécuter [des commandes shell Unix/Linux dans\n",
        "IPython](https://www.python4data.science/en/latest/workspace/ipython/shell.html).\n",
        "Créez une cellule de code et essayez ces commandes.\n",
        "\n",
        "-   `! uname -a` affiche des informations sur le système.\n",
        "-   `! ls` affiche le contenu du répertoire actuel.\n",
        "-   `! ls /` affiche le contenu du répertoire racine.\n",
        "-   `! pwd` retourne le nom du répertoire de travail.\n",
        "\n",
        "Ces commandes sont utiles pour déboguer du code, car elles fournissent\n",
        "des informations sur l’environnement informatique, telles que la version\n",
        "du système d’exploitation et le contenu du répertoire local."
      ],
      "id": "0c337551-50fc-4238-92b6-96f4b106da8e"
    }
  ],
  "nbformat": 4,
  "nbformat_minor": 5,
  "metadata": {
    "kernelspec": {
      "name": "python3",
      "display_name": "Python 3 (ipykernel)",
      "language": "python"
    }
  }
}