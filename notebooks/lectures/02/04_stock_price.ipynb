{
  "cells": [
    {
      "cell_type": "markdown",
      "metadata": {},
      "source": [
        "# Lecture 02\n",
        "\n",
        "Jupyter Notebook - Capitalisation boursière\n",
        "\n",
        "Marcel Turcotte (École de science informatique et de génie électrique,\n",
        "University of Ottawa)  \n",
        "2024-09-02\n",
        "\n",
        "# Capitalisation boursière de NVIDIA et Intel (2012 - 2024)\n",
        "\n",
        "La bibliothèque Python `yfinance` est souvent utilisée pour télécharger\n",
        "des données du marché boursier."
      ],
      "id": "d81f8af1-2e79-4dfc-8a45-fac3d72d3517"
    },
    {
      "cell_type": "code",
      "execution_count": 1,
      "metadata": {},
      "outputs": [],
      "source": [
        "import yfinance as yf\n",
        "import matplotlib.pyplot as plt"
      ],
      "id": "6f79137b"
    },
    {
      "cell_type": "markdown",
      "metadata": {},
      "source": [
        "Définissons les actions qui nous intéressent pour cette analyse."
      ],
      "id": "5ab3e92d-f3d0-4657-b917-fa276ec58ea7"
    },
    {
      "cell_type": "code",
      "execution_count": 2,
      "metadata": {},
      "outputs": [],
      "source": [
        "# Définir les tickers pour NVIDIA et Intel\n",
        "tickers = ['NVDA', 'INTC']"
      ],
      "id": "78d0cb66"
    },
    {
      "cell_type": "markdown",
      "metadata": {},
      "source": [
        "Téléchargeons maintenant les données sur notre instance Colab ou notre\n",
        "ordinateur local."
      ],
      "id": "67135de2-936f-495a-adb6-10dc2848bf42"
    },
    {
      "cell_type": "code",
      "execution_count": 3,
      "metadata": {},
      "outputs": [],
      "source": [
        "# Télécharger les données historiques du marché depuis 2012\n",
        "data = yf.download(tickers, start='2012-01-01', end='2024-01-01', group_by='ticker')"
      ],
      "id": "12ac4636"
    },
    {
      "cell_type": "markdown",
      "metadata": {},
      "source": [
        "En se concentrant sur les prix de clôture."
      ],
      "id": "428512d0-565e-4884-8a64-600619e29ec5"
    },
    {
      "cell_type": "code",
      "execution_count": 4,
      "metadata": {},
      "outputs": [],
      "source": [
        "# Extraire les prix de clôture ajustés\n",
        "nvda_data = data['NVDA']['Adj Close']\n",
        "intc_data = data['INTC']['Adj Close']"
      ],
      "id": "7c012c75"
    },
    {
      "cell_type": "markdown",
      "metadata": {},
      "source": [
        "Dessinons."
      ],
      "id": "b564894b-73a4-4de1-ade1-3bc7771bfa5b"
    },
    {
      "cell_type": "code",
      "execution_count": 5,
      "metadata": {},
      "outputs": [],
      "source": [
        "# Tracer les données des prix des actions\n",
        "plt.figure(figsize=(12, 6))\n",
        "plt.plot(nvda_data.index, nvda_data, label='NVIDIA')\n",
        "plt.plot(intc_data.index, intc_data, label='Intel')\n",
        "plt.title('Prix des actions de NVIDIA et Intel (2012 - 2024)')\n",
        "plt.xlabel('Date')\n",
        "plt.ylabel('Prix des actions (USD)')\n",
        "plt.legend()\n",
        "plt.grid(True)\n",
        "plt.show()"
      ],
      "id": "065fd520"
    },
    {
      "cell_type": "markdown",
      "metadata": {},
      "source": [
        "Calculons maintenant la capitalisation boursière."
      ],
      "id": "8458d776-0a8f-4d31-acd3-61fcffabe5d6"
    },
    {
      "cell_type": "code",
      "execution_count": 6,
      "metadata": {},
      "outputs": [],
      "source": [
        "# Récupérer le nombre d'actions en circulation (cela donne la valeur la plus récente)\n",
        "nvda_shares = yf.Ticker('NVDA').info['sharesOutstanding']\n",
        "intc_shares = yf.Ticker('INTC').info['sharesOutstanding']\n",
        "\n",
        "# Calculer la capitalisation boursière (Close ajusté * actions en circulation)\n",
        "nvda_market_cap = data['NVDA']['Adj Close'] * nvda_shares\n",
        "intc_market_cap = data['INTC']['Adj Close'] * intc_shares"
      ],
      "id": "3b9a0219"
    },
    {
      "cell_type": "markdown",
      "metadata": {},
      "source": [
        "Bien que les prix des actions de NVIDIA et Intel soient comparables, la\n",
        "capitalisation boursière de NVIDIA a connu une augmentation\n",
        "significative depuis 2020, contrairement à la capitalisation boursière\n",
        "plus stable d’Intel."
      ],
      "id": "e9ba021f-59df-4418-8738-cfeff18885ab"
    },
    {
      "cell_type": "code",
      "execution_count": 7,
      "metadata": {},
      "outputs": [],
      "source": [
        "# Tracer les données de la capitalisation boursière\n",
        "plt.figure(figsize=(12, 6))\n",
        "plt.plot(nvda_market_cap.index, nvda_market_cap, label='NVIDIA')\n",
        "plt.plot(intc_market_cap.index, intc_market_cap, label='Intel')\n",
        "plt.title('Capitalisation boursière de NVIDIA et Intel (2012 - 2024)')\n",
        "plt.xlabel('Date')\n",
        "plt.ylabel('Capitalisation boursière (USD)')\n",
        "plt.legend()\n",
        "plt.grid(True)\n",
        "plt.show()"
      ],
      "id": "37dca883"
    }
  ],
  "nbformat": 4,
  "nbformat_minor": 5,
  "metadata": {
    "kernelspec": {
      "name": "python3",
      "display_name": "Python 3 (ipykernel)",
      "language": "python"
    }
  }
}